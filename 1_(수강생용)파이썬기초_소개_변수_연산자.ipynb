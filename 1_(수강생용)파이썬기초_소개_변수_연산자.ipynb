{
  "cells": [
    {
      "cell_type": "markdown",
      "metadata": {
        "id": "view-in-github",
        "colab_type": "text"
      },
      "source": [
        "<a href=\"https://colab.research.google.com/github/leesoyeon19/samsung_dt/blob/main/1_(%E1%84%89%E1%85%AE%E1%84%80%E1%85%A1%E1%86%BC%E1%84%89%E1%85%A2%E1%86%BC%E1%84%8B%E1%85%AD%E1%86%BC)%E1%84%91%E1%85%A1%E1%84%8B%E1%85%B5%E1%84%8A%E1%85%A5%E1%86%AB%E1%84%80%E1%85%B5%E1%84%8E%E1%85%A9_%E1%84%89%E1%85%A9%E1%84%80%E1%85%A2_%E1%84%87%E1%85%A7%E1%86%AB%E1%84%89%E1%85%AE_%E1%84%8B%E1%85%A7%E1%86%AB%E1%84%89%E1%85%A1%E1%86%AB%E1%84%8C%E1%85%A1.ipynb\" target=\"_parent\"><img src=\"https://colab.research.google.com/assets/colab-badge.svg\" alt=\"Open In Colab\"/></a>"
      ]
    },
    {
      "cell_type": "markdown",
      "metadata": {
        "id": "bkz_01FGr1fh"
      },
      "source": [
        "# 파이썬 소개\n",
        "## 파이썬이란?\n",
        "> - 1991년 Guido van Rossum이 개발한 고급 프로그래밍 언어 <br>\n",
        "- 직관적이고, 매우 간결하고 읽기 쉬운 문법 <br>\n",
        "- 간단한 프로그램, 대규모 웹 어플리케이션, 데이터 분석, 인공지능, 기계학습 등 활용 <br>\n",
        "\n",
        "## 파이썬 특징\n",
        "- 쉽고 간결한 문법:\n",
        "    - 들여쓰기를 통해 코드 블록을 구분\n",
        "- 다양한 모듈과 라이브러리:\n",
        "    - 다양한 모듈과 라이브러리 제공\n",
        "    - 데이터 분석에는 Pandas, NumPy, SciPy 등의 라이브러리 활용\n",
        "    - 인공지능과 기계학습에는 TensorFlow, PyTorch, Keras 등의 라이브러리 활용\n",
        "- 크로스 플랫폼:\n",
        "    - 파이썬은 운영체제에 종속되지 않고 다양한 플랫폼에서 사용될 수 있음.\n",
        "- 인터프리터 언어:\n",
        "    - 컴파일이 필요하지 않\n",
        "아 코드 수정 및 실행이 쉽고 빠름.\n",
        "    - 그러나 연산 속도는 C언어 등에 비해 느림.\n",
        "- 동적 타이핑:\n",
        "    - 변수의 자료형을 미리 선언하지 않음.\n",
        "    - 실행 시 자동으로 타입 결정\n",
        "\n",
        "    - 문법이 간결하여 코드를 읽기 쉽고 이해하기 쉬움.\n"
      ]
    },
    {
      "cell_type": "markdown",
      "metadata": {
        "id": "2UibCwojvd6Z"
      },
      "source": [
        "# 파이썬 변수\n",
        "## 파이썬 변수의 특징\n",
        "- 프로그래밍에서 변수란 값을 저장하기 위한 메모리 공간을 의미함.\n",
        "- 프로그래밍에서는 실제 메모리 공간을 사용하기 보단 그 공간을 지시하는 변수명에 변수를 할당하는 형식\n",
        "- 파이썬 변수는 자료형을 미리 지정할 필요없음.\n",
        "- 변수명에 할당되는 값에 따라 자료형은 자동으로 결정됨.\n",
        "- 형식: 변수명 = 변수값"
      ]
    },
    {
      "cell_type": "markdown",
      "metadata": {
        "id": "9K6hdPx-wESL"
      },
      "source": [
        "## 파이썬 변수명 설정 시 주의 사항\n",
        "\n",
        "- 의미 있는 이름 사용:\n",
        "    - 변수명은 변수의 역할과 의미를 반영해야 함.\n",
        "    - ex) num_students는 학생 수를 나타내는 변수를 의미함.\n",
        "\n",
        "- 읽기 쉽고 간결하게:\n",
        "    - 변수명은 읽기 쉽고 간결해야 함.\n",
        "    - 너무 길거나 복잡한 변수명은 코드 가독성을 떨어뜨림.\n",
        "\n",
        "- 공백 대신 밑줄 사용:\n",
        "    - 변수명에 공백이 포함될 수 없음.\n",
        "    - 여러 단어를 조합할 때는 밑줄(_)을 사용함.\n",
        "    - ex) total_amount\n",
        "\n",
        "- 예약어 사용 금지:\n",
        "    - 파이썬 예약어는 변수명으로 사용할 수 없음.\n",
        "    - ex) for, while, if 등은 변수명으로 사용할 수 없음.\n",
        "\n",
        "- 대소문자 구분:\n",
        "    - 파이썬은 대소문자를 구분함.\n",
        "    - ex) Variable과 variable은 다른 변수로 인식함.\n",
        "\n",
        "- 숫자로 시작 금지:\n",
        "    - 변수명은 숫자로 시작할 수 없음.\n",
        "    - ex) 1st_place는 유효하지 않지만 first_place는 유효함.\n",
        "\n",
        "- 특수 문자 사용 금지:\n",
        "    - 변수명에 밑줄 외의 특수 문자(예: @, #, !, - 등)는 사용할 수 없음.\n",
        "\n",
        "- 클래스명과 변수명 구분:\n",
        "    - 클래스명은 보통 대문자로 시작하고, 변수명은 소문자로 시작하는 것이 관례임.\n",
        "    - ex) Student(클래스), student_name (변수)\n"
      ]
    },
    {
      "cell_type": "markdown",
      "metadata": {
        "id": "fSBho_5ZxyK0"
      },
      "source": [
        "## 파이썬 변수 예시"
      ]
    },
    {
      "cell_type": "code",
      "execution_count": null,
      "metadata": {
        "id": "zFFVCDuOss0a"
      },
      "outputs": [],
      "source": [
        "# 정수형 변수\n",
        "age = 27\n",
        "\n",
        "# 실수형 변수\n",
        "weight = 63.5\n",
        "\n",
        "# 문자열 변수\n",
        "name = 'aiglue'\n",
        "\n",
        "# 불리언 변수\n",
        "is_teacher = True\n",
        "\n",
        "# 리스트 변수\n",
        "numbers = [10, 20, 30, 40, 50]\n"
      ]
    },
    {
      "cell_type": "code",
      "execution_count": null,
      "metadata": {
        "colab": {
          "base_uri": "https://localhost:8080/"
        },
        "id": "7fI4TFTJwOjW",
        "outputId": "1e55f5b8-aefe-4709-f3f5-6536bdec3318"
      },
      "outputs": [
        {
          "output_type": "stream",
          "name": "stdout",
          "text": [
            "27\n"
          ]
        }
      ],
      "source": [
        "print(age)"
      ]
    },
    {
      "cell_type": "code",
      "execution_count": null,
      "metadata": {
        "colab": {
          "base_uri": "https://localhost:8080/"
        },
        "id": "Rj3EX6Mkw2N7",
        "outputId": "ca824ada-ceff-47f2-d844-203928a93c9d"
      },
      "outputs": [
        {
          "output_type": "stream",
          "name": "stdout",
          "text": [
            "63.5\n"
          ]
        }
      ],
      "source": [
        "print(weight)"
      ]
    },
    {
      "cell_type": "markdown",
      "metadata": {
        "id": "o9amROCjx31P"
      },
      "source": [
        "## 파이썬 변수 - 연습문제1\n",
        "- 문제1) 우리 반 이름을 임의로 정하고, class_name 이라는 변수에 할당하고, 출력하세요.\n",
        "- 문제2) 우리 반 정원을 확인하고, num_student 이라는 변수에 할당하고, 출력하세요.\n",
        "- 문제3) 각자 내일 교육에 참여 여부를 정하고, is_present 변수에 할당하고, 출력하세요.\n",
        "- 문제4) 자신이 가장 좋아하는 숫자 3가지를 정하고, 리스트에 넣은 다음, my_favorate_num 변수에 할당하고, 출력하세요.\n",
        "- 문제5) 1 나누기 2의 결과를 result 변수에 할당하고, 출력하세요."
      ]
    },
    {
      "cell_type": "code",
      "execution_count": null,
      "metadata": {
        "id": "2pptu-ziwESN",
        "colab": {
          "base_uri": "https://localhost:8080/",
          "height": 106
        },
        "outputId": "cc8905b5-9273-465d-d134-baaeb047ad87"
      },
      "outputs": [
        {
          "output_type": "error",
          "ename": "SyntaxError",
          "evalue": "invalid syntax (<ipython-input-10-edec5ff28417>, line 1)",
          "traceback": [
            "\u001b[0;36m  File \u001b[0;32m\"<ipython-input-10-edec5ff28417>\"\u001b[0;36m, line \u001b[0;32m1\u001b[0m\n\u001b[0;31m    class_name = DT print(class_name)\u001b[0m\n\u001b[0m                    ^\u001b[0m\n\u001b[0;31mSyntaxError\u001b[0m\u001b[0;31m:\u001b[0m invalid syntax\n"
          ]
        }
      ],
      "source": [
        "class_name = DT\n",
        "\n",
        "num_student"
      ]
    },
    {
      "cell_type": "markdown",
      "metadata": {
        "id": "lLf0ujh8wESO"
      },
      "source": [
        "## 파이썬 변수 - 연습문제2\n",
        "> 다음 주어진 코드를 지시사항에 따라 수정하세요.\n",
        "```python\n",
        "- 문제1) 다음 코드에서 변수명의\n",
        " 의미가 더 명확해지도록 변수명을 변경하세요.\n",
        "    a = 100\n",
        "    b = 50\n",
        "    c = a + b\n",
        "    print(c)\n",
        "\n",
        "- 문제2) 파이썬 예약어를 변수명으로 사용하지 않도록 코드를 수정하세요.\n",
        "    def = 10\n",
        "    for = 20\n",
        "    sum = def + for\n",
        "    print(sum)\n",
        "\n",
        "- 문제3) 다음 변수명 중 잘못된 것을 찾아 올바르게 수정하세요.\n",
        "    1st_place = \"Gold\"\n",
        "    second-place = \"Silver\"\n",
        "    third_place! = \"Bronze\"\n",
        "    print(1st_place, second-place, third_place!)\n",
        "\n",
        "- 문제4) 다음 코드에서 변수명을 의미 있게 개선하고, 대소문자 구분을 준수하세요.\n",
        "    Name = \"Alice\"\n",
        "    AGE = 30\n",
        "    Country = \"Wonderland\"\n",
        "    print(name, age, COUNTRY)\n",
        "\n",
        "- 문제5) 다음 코드에서 변수명을 의미 있게 개선하고, 특수 문자를 포함하지 않도록 수정하세요.\n",
        "    total!cost = 500\n",
        "    discount% = 0.1\n",
        "    final@price = total&cost * (1 - discount%)\n",
        "    print(final@price)\n",
        "```"
      ]
    },
    {
      "cell_type": "code",
      "execution_count": null,
      "metadata": {
        "id": "Bpm5zXDmwESO"
      },
      "outputs": [],
      "source": []
    },
    {
      "cell_type": "markdown",
      "metadata": {
        "id": "DJrMRFu8wESO"
      },
      "source": [
        "# 파이썬 연산자\n",
        "## 연산자의 종류\n",
        "- 산술 연산자\n",
        "- 비교 연산자\n",
        "- 논리 연산자\n",
        "- 할당 연산자\n",
        "- 식별 연산자\n",
        "- 멤버 연산자"
      ]
    },
    {
      "cell_type": "markdown",
      "metadata": {
        "id": "aIY0yOYIwESO"
      },
      "source": [
        "### 산술 연산자"
      ]
    },
    {
      "cell_type": "code",
      "execution_count": null,
      "metadata": {
        "id": "aJJU3TqDwESO"
      },
      "outputs": [],
      "source": [
        "# 산술 연산자 예시\n",
        "a = 5\n",
        "b = 2\n",
        "\n",
        "print(a + b)    # 7\n",
        "print(a - b)    # 3\n",
        "print(a * b)    # 10\n",
        "print(a / b)    # 2.5\n",
        "print(a // b)   # 2\n",
        "print(a % b)    # 1\n",
        "print(a ** b)   # 25"
      ]
    },
    {
      "cell_type": "markdown",
      "metadata": {
        "id": "e4HJLjTOwESO"
      },
      "source": [
        "#### 산술연산자 - 연습문제\n",
        "\n",
        "- 문제1) 두 수 5와 3을 임의의 변수로 할당하고, 이 두 수의 합과 곱을 출력하는 코드를 작성하세요.\n",
        "- 문제2) 다음 식을 파이썬 코드로 구현하고 결과를 구하세요: $$(8+2) \\times 5 - 3^2$$\n",
        "- 문제3) 10을 3을 임의의 변수에 할당하고, 10을 3으로 나눌 때의 몫과 나머지를 출력하세요.\n",
        "- 문제4) 네 개의 숫자 12, 15, 7, 10의 평균을 구하세요.\n",
        "- 문제5) 다음 연산을 파이썬 코드로 구현하고 결과를 구하세요. $$\\frac{(6+4 \\times 5^4 - 2)}{2} $$\n",
        "\n"
      ]
    },
    {
      "cell_type": "code",
      "execution_count": null,
      "metadata": {
        "id": "TM_JPz5kwESP"
      },
      "outputs": [],
      "source": []
    },
    {
      "cell_type": "markdown",
      "metadata": {
        "id": "lsfOIyu8wESP"
      },
      "source": [
        "### 비교 연산자\n",
        "- 비교 연산자\n",
        "    - ==: 같다\n",
        "    - !=: 다르다\n",
        "    - \\>: 크다\n",
        "    - <: 작다\n",
        "    - \\>=: 크거나 같다\n",
        "    - <=: 작거나 같다\n"
      ]
    },
    {
      "cell_type": "code",
      "execution_count": null,
      "metadata": {
        "id": "7_gdaBWrwESP",
        "outputId": "8b92263e-3cc3-4d03-d4a9-f1e82100fa90"
      },
      "outputs": [
        {
          "name": "stdout",
          "output_type": "stream",
          "text": [
            "False\n",
            "True\n",
            "True\n",
            "False\n",
            "True\n",
            "False\n"
          ]
        }
      ],
      "source": [
        "# 비교 연산자 예시\n",
        "\n",
        "a = 5\n",
        "b = 2\n",
        "\n",
        "print(a == b)   # False\n",
        "print(a != b)   # True\n",
        "print(a > b)    # True\n",
        "print(a < b)    # False\n",
        "print(a >= b)   # True\n",
        "print(a <= b)   # False"
      ]
    },
    {
      "cell_type": "markdown",
      "metadata": {
        "id": "s7eBgQl2wESP"
      },
      "source": [
        "#### 비교연산자 - 연습문제\n",
        "- 문제1) 10이 15보다 큰지 비교하고, 결과를 출력하세요.\n",
        "- 문제2) 7이 7과 같은지 비교하고, 결과를 출력하세요.\n",
        "- 문제3) 20이 15보다 작거나 같은지 비교하고, 결과를 출력하세요.\n",
        "- 문제4) 9가 10과 다른지 비교하고, 결과를 출력하세요.\n",
        "- 문제5) 5와 4의 곱이 5와 4의 합보다 큰지 비교하고, 결과를 출력하세요."
      ]
    },
    {
      "cell_type": "code",
      "execution_count": null,
      "metadata": {
        "id": "c-4CcfggwESP"
      },
      "outputs": [],
      "source": []
    },
    {
      "cell_type": "markdown",
      "metadata": {
        "id": "vbGOn5yjwESP"
      },
      "source": [
        "### 논리 연산자\n",
        "- and: 논리 곱\n",
        "- or: 논리 합\n",
        "- not: 논리 부정\n"
      ]
    },
    {
      "cell_type": "code",
      "execution_count": null,
      "metadata": {
        "id": "uiVp0EKOwESP",
        "outputId": "91f78104-66ff-45a8-df50-ead2ed281fe2"
      },
      "outputs": [
        {
          "name": "stdout",
          "output_type": "stream",
          "text": [
            "True\n",
            "True\n",
            "False\n"
          ]
        }
      ],
      "source": [
        "# 논리 연산자 예시\n",
        "\n",
        "a = 5\n",
        "b = 2\n",
        "c = 7\n",
        "\n",
        "print(a > b and b < c)   # True\n",
        "print(a > b or b > c)    # True\n",
        "print(not a > b)         # False"
      ]
    },
    {
      "cell_type": "markdown",
      "metadata": {
        "id": "t1qzXvePwESQ"
      },
      "source": [
        "#### 논리연산자 - 연습문제\n",
        "\n",
        "- 문제1) 10이 5보다 크고 7이 3보다 큰지 비교하고, 결과를 출력하세요.\n",
        "- 문제2) 5가 10보다 크거나 3이 1보다 큰지 비교하고, 결과를 출력하세요.\n",
        "- 문제3) not 연산자를 이용하여 5가 10보다 크지 않은지 비교하고, 결과를 출력하세요.\n",
        "- 문제4) 10이 2보다 크고 8이 4보다 큰 동시에 7이 3보다 크지 않은지 비교하고, 결과를 출력하세요."
      ]
    },
    {
      "cell_type": "code",
      "execution_count": null,
      "metadata": {
        "id": "D7pwA2q-wESQ"
      },
      "outputs": [],
      "source": []
    },
    {
      "cell_type": "markdown",
      "metadata": {
        "id": "m3jB46bRwESQ"
      },
      "source": [
        "### 할당 연산자\n",
        "- =: 오른쪽 피연산자의 값을 왼쪽 피연산자에 대입\n",
        "- +=: 왼쪽 피연산자에 오른쪽 피연산자를 더한 값을 왼쪽 피연산자에 대입\n",
        "- -=: 왼쪽 피연산자에서 오른쪽 피연산자를 뺀 값을 왼쪽 피연산자에 대입\n",
        "- *=: 왼쪽 피연산자에 오른쪽 피연산자를 곱한 값을 왼쪽 피연산자에 대입\n",
        "- /=: 왼쪽 피연산자를 오른쪽 피연산자로 나눈 값을 왼쪽 피연산자에 대입\n"
      ]
    },
    {
      "cell_type": "code",
      "execution_count": null,
      "metadata": {
        "id": "8-88buISwESQ",
        "outputId": "8898139c-5dc3-488a-dd96-46f2bb19cd68"
      },
      "outputs": [
        {
          "name": "stdout",
          "output_type": "stream",
          "text": [
            "5\n",
            "7\n",
            "5\n",
            "10\n",
            "5.0\n",
            "1.0\n"
          ]
        }
      ],
      "source": [
        "# 할당 연산자 예시\n",
        "\n",
        "a = 5\n",
        "print(a)    # 5\n",
        "\n",
        "a += 2\n",
        "print(a)    # 7\n",
        "\n",
        "a -= 2\n",
        "print(a)    # 5\n",
        "\n",
        "a *= 2\n",
        "print(a)    # 10\n",
        "\n",
        "a /= 2\n",
        "print(a)    # 5.0\n",
        "\n",
        "a %= 2\n",
        "print(a)    # 1.0"
      ]
    },
    {
      "cell_type": "markdown",
      "metadata": {
        "id": "HTzDZzvgwESQ"
      },
      "source": [
        "#### 할당연산자 - 연습문제\n",
        "- 문제1) 변수 x에 5를 할당한 후, 3을 더하여 할당하고, 그 결과를 출력하세요.\n",
        "- 문제2) 변수 y에 15를 할당한 후, 4를 빼서 할당하고, 그 결과를 출력하세요.\n",
        "- 문제3) 변수 z에 7을 할당한 후, 2를 곱하여 할당하고, 그 결과를 출력하세요.\n",
        "- 문제4) 변수 a에 20을 할당한 후, 5로 나누어 할당하고, 그 결과를 출력하세요."
      ]
    },
    {
      "cell_type": "code",
      "execution_count": null,
      "metadata": {
        "id": "JgoS3LkYwESQ"
      },
      "outputs": [],
      "source": []
    },
    {
      "cell_type": "markdown",
      "metadata": {
        "id": "O9CBL373wESQ"
      },
      "source": [
        "### 식별 연산자\n",
        "- is: 두 변수가 같은 객체를 가리키는지 확인\n",
        "- is not: 두 변수가 다른 객체를 가리키는지 확인\n",
        "- 두 변수에 id() 함수를 적용하여 그 결과가 같은지 또는 아닌지를 질의하는 것과 동일함."
      ]
    },
    {
      "cell_type": "code",
      "execution_count": null,
      "metadata": {
        "id": "F3v98fDPwESQ",
        "outputId": "10e0f964-d054-4507-be78-250e79b6b399"
      },
      "outputs": [
        {
          "name": "stdout",
          "output_type": "stream",
          "text": [
            "False\n",
            "True\n",
            "False\n",
            "True\n",
            "True\n"
          ]
        }
      ],
      "source": [
        "# 식별 연산자 예시1 - 리스트\n",
        "# 가변 객체 리스트에 대해서는 동일한 값이어도 메모리 관리를 따로 함.\n",
        "\n",
        "a = [1, 2, 3]\n",
        "b = [1, 2, 3]\n",
        "\n",
        "print(a is b)       # False\n",
        "print(a is not b)   # True\n",
        "print(id(a) == id(b)) # False\n",
        "print(id(a) != id(b)) # True\n",
        "\n",
        "c = a\n",
        "print(a is c)       # True"
      ]
    },
    {
      "cell_type": "code",
      "execution_count": null,
      "metadata": {
        "id": "VqJy60TewESQ",
        "outputId": "2a7d2850-fb8f-4b2e-bc48-4a1caf1a8f04"
      },
      "outputs": [
        {
          "name": "stdout",
          "output_type": "stream",
          "text": [
            "True\n",
            "True\n"
          ]
        },
        {
          "data": {
            "text/plain": [
              "True"
            ]
          },
          "execution_count": 17,
          "metadata": {},
          "output_type": "execute_result"
        }
      ],
      "source": [
        "# 식별 연산자 예시2 - 문자열\n",
        "# 불변 객체(immutable)인 문자열은 메모리 효율성을 위해 동일한 값을 가진 불변 객체를 재사용함.\n",
        "# 같은 값을 갖는 변수는 동일한 객체를 참조함.\n",
        "\n",
        "string1 = \"hi\"\n",
        "string2 = \"hi\"\n",
        "\n",
        "result1 = string1 is string2\n",
        "print(result1)\n",
        "\n",
        "string3 = string2\n",
        "result2 = string2 is string3\n",
        "print(result2)\n",
        "\n",
        "id(string1) == id(string2)"
      ]
    },
    {
      "cell_type": "code",
      "execution_count": null,
      "metadata": {
        "id": "lDBMFWw-wESR",
        "outputId": "b21f431b-5af3-4a3a-9081-2e7e817b4666"
      },
      "outputs": [
        {
          "name": "stdout",
          "output_type": "stream",
          "text": [
            "False\n",
            "False\n",
            "True\n"
          ]
        }
      ],
      "source": [
        "# 식별 연산자 예시3 - 문자열\n",
        "# 불변 객체(immutable)인 문자열은 메모리 효율성을 위해 동일한 값을 가진 불변 객체를 재사용함.\n",
        "# 다른 값을 갖는 변수는 다른 객체를 참조함.\n",
        "\n",
        "string1 = \"hi\"\n",
        "string2 = \"\bhello\"\n",
        "\n",
        "result1 = string1 is string2\n",
        "print(result1)\n",
        "print(id(string1) == id(string2))\n",
        "\n",
        "string3 = string2\n",
        "result2 = string2 is string3\n",
        "print(result2)\n"
      ]
    },
    {
      "cell_type": "markdown",
      "metadata": {
        "id": "ZpygSozbwESR"
      },
      "source": [
        "#### 식별 연산자 - 연습문제\n",
        "- 문제1) 숫자 100과 100.0이 동일한 객체인지 생각해 보고, 그 결과를 출력하는 코드를 작성하세요.\n",
        "- 문제2) 문자열 'short'와 'short'가 동일한 객체인지 생각해 보고, 그 결과를 출력하는 코드를 작성하세요.\n",
        "- 문제3) 숫자 50과 문자열 '50'이 동일한 객체인지 생각해 보고, 그 결과를 출력하는 코드를 작성하세요."
      ]
    },
    {
      "cell_type": "code",
      "execution_count": null,
      "metadata": {
        "id": "2m5M4EcUwESR"
      },
      "outputs": [],
      "source": []
    },
    {
      "cell_type": "markdown",
      "metadata": {
        "id": "gY4ZlOwxwESR"
      },
      "source": [
        "### 멤버 연산자\n",
        "- in: 왼쪽 피연산자가 오른쪽 피연산자에 속하는지 확인\n",
        "- not in: 왼쪽 피연산자가 오른쪽 피연산자에 속하지 않는지 확인\n",
        "\n",
        "\n",
        "\n",
        "\n",
        "\n",
        "\n"
      ]
    },
    {
      "cell_type": "code",
      "execution_count": null,
      "metadata": {
        "id": "3nWxQMpawESR",
        "outputId": "cf23c1ad-b968-45a2-88c9-b92d407e9c72"
      },
      "outputs": [
        {
          "name": "stdout",
          "output_type": "stream",
          "text": [
            "True\n",
            "True\n"
          ]
        }
      ],
      "source": [
        "# 멤버 연산자 예시1 - 리스트\n",
        "\n",
        "a = [1, 2, 3]\n",
        "\n",
        "print(2 in a)       # True\n",
        "print(4 not in a)   # True"
      ]
    },
    {
      "cell_type": "code",
      "execution_count": null,
      "metadata": {
        "id": "YK35bKPjwESR",
        "outputId": "5275fc98-61c5-4041-967e-252de7ac08cc"
      },
      "outputs": [
        {
          "name": "stdout",
          "output_type": "stream",
          "text": [
            "True\n"
          ]
        }
      ],
      "source": [
        "# 멤버 연산자 예시2 - 문자열\n",
        "\n",
        "string = 'welcome to my world'\n",
        "result = 'come' in string\n",
        "print(result)"
      ]
    },
    {
      "cell_type": "code",
      "execution_count": null,
      "metadata": {
        "id": "fyIBMVsLwESR",
        "outputId": "47c2fff1-6781-466a-dd77-cc7d4365aa79"
      },
      "outputs": [
        {
          "name": "stdout",
          "output_type": "stream",
          "text": [
            "False\n"
          ]
        }
      ],
      "source": [
        "# 멤버 연산자 예시3 - dictionary\n",
        "\n",
        "my_dict = {1:'one', 2:'two', 3:'three'}\n",
        "result = 100 in my_dict\n",
        "print(result)"
      ]
    },
    {
      "cell_type": "markdown",
      "metadata": {
        "id": "9flTTYqIwESS"
      },
      "source": [
        "#### 멤버 연산자 - 연습문제\n",
        "- 문제1) 리스트 [100, 200, 300, 400, 500]를 임의의 변수에 할당하고, 이 리스트에 숫자 3이 포함되어 있는지 확인하는 코드를 작성하세요.\n",
        "- 문제2) 문자열 \"Hello, world!\"를 임의의 변수에 할당하고, 이 문자열에  \"world\"가 포함되어 있는지 확인하는 코드를 작성하세요.\n",
        "- 문제3) 사전 {'aa': 1, 'bb': 2, 'cc': 3}를 임의의 변수에 할당하고, 이 사전에 키 'cd'가 포함되어 있지 않은지 확인하는 코드를 작성하세요."
      ]
    },
    {
      "cell_type": "code",
      "execution_count": null,
      "metadata": {
        "id": "nlLToCY7wESV"
      },
      "outputs": [],
      "source": []
    },
    {
      "cell_type": "markdown",
      "metadata": {
        "id": "vn4PPiUOwESV"
      },
      "source": [
        "## 연산자 종합연습문제\n",
        "- 문제1 - 산술연산자) 변수 a와 b에 각각 정수 값이 할당되어 있다. a와 b의 값을 이용하여 a를 b로 나눈 몫과 나머지를 출력하는 코드를 작성하세요.\n",
        "- 문제2 - 비교연산자) 사용자로부터 두 개의 정수를 입력받고, 두 수가 같은 경우 \"두 수는 같습니다.\"라는 메시지를 출력하고, 다른 경우 \"두 수는 다릅니다.\"라는 메시지를 출력하는 코드를 작성하세요.\n",
        "- 문제3 - 할당연산자) 변수 a에 5를 할당하고, a에 2를 더한 값을 다시 a에 할당한 후, a의 값을 출력하는 코드를 작성하세요.\n",
        "- 문제4 - 논리연산자) 변수 a, b, c에 각각 True 또는 False 값을 할당하고, (a and b) or (not c)의 결과를 출력하는 코드를 작성하세요.\n",
        "- 문제5 - 식별연산자) 변수 a와 b에 각각 [1, 2, 3] 리스트를 할당하고, a와 b가 동일한 객체인지 여부를 출력하는 코드를 작성하세요.\n",
        "- 문제6 - 멤버연산자) 변수 a에 [1, 2, 3] 리스트를 할당하고, 2가 a 리스트에 포함되어 있는지 여부를 출력하는 코드를 작성하세요."
      ]
    },
    {
      "cell_type": "code",
      "execution_count": null,
      "metadata": {
        "id": "RWjVztswwESV"
      },
      "outputs": [],
      "source": []
    }
  ],
  "metadata": {
    "colab": {
      "provenance": [],
      "toc_visible": true,
      "include_colab_link": true
    },
    "kernelspec": {
      "display_name": "Python 3",
      "name": "python3"
    },
    "language_info": {
      "name": "python"
    }
  },
  "nbformat": 4,
  "nbformat_minor": 0
}